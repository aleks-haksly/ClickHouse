{
 "cells": [
  {
   "cell_type": "code",
   "execution_count": 27,
   "id": "961caaeb-d46f-407e-bf14-53efd2ca9489",
   "metadata": {},
   "outputs": [],
   "source": [
    "import pandas as pd\n",
    "from clickhouse_driver import Client"
   ]
  },
  {
   "cell_type": "code",
   "execution_count": 57,
   "id": "e6410897-3bef-4357-ae9b-79d57ded7639",
   "metadata": {},
   "outputs": [
    {
     "data": {
      "text/plain": [
       "9994"
      ]
     },
     "execution_count": 57,
     "metadata": {},
     "output_type": "execute_result"
    }
   ],
   "source": [
    "source = Client(host='clickhouse.lab.karpov.courses', database='simulator', port=9000, password=\"dpo_python_2020\", user=\"student\")\n",
    "target = Client(host='localhost', database='default', password=\"pwd\", user=\"default\", port=19000)\n",
    "source.execute('SET max_execution_time = 3600')\n",
    "target.execute('SET max_execution_time = 3600')\n",
    "df = source.execute('SELECT * FROM SampleSuperstoreOrders', with_column_types=True)\n",
    "columns = [col[0] for col in df[1]]\n",
    "data = df[0]\n",
    "\n",
    "target.execute(f'''INSERT INTO SampleSuperstoreOrders ({\", \".join(columns)}) VALUES''', data)"
   ]
  },
  {
   "cell_type": "code",
   "execution_count": null,
   "id": "5980421b-53b8-42e8-9eb5-78f0017d374e",
   "metadata": {},
   "outputs": [],
   "source": []
  }
 ],
 "metadata": {
  "kernelspec": {
   "display_name": "Python 3 (ipykernel)",
   "language": "python",
   "name": "python3"
  },
  "language_info": {
   "codemirror_mode": {
    "name": "ipython",
    "version": 3
   },
   "file_extension": ".py",
   "mimetype": "text/x-python",
   "name": "python",
   "nbconvert_exporter": "python",
   "pygments_lexer": "ipython3",
   "version": "3.11.7"
  }
 },
 "nbformat": 4,
 "nbformat_minor": 5
}
